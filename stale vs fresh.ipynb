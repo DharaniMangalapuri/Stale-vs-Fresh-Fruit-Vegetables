{
 "cells": [
  {
   "cell_type": "code",
   "execution_count": 2,
   "id": "cd15f731",
   "metadata": {},
   "outputs": [],
   "source": [
    "import tensorflow as tf\n",
    "from PIL import Image\n",
    "from tensorflow.keras import layers"
   ]
  },
  {
   "cell_type": "code",
   "execution_count": 8,
   "id": "dd93d410",
   "metadata": {},
   "outputs": [
    {
     "data": {
      "image/png": "[encoded data removed]",
      "text/plain": [
       "<PIL.Image.Image image mode=RGB size=32x32>"
      ]
     },
     "execution_count": 8,
     "metadata": {},
     "output_type": "execute_result"
    }
   ],
   "source": [
    "img=Image.open(\"/home/student/Desktop/PYTHON/G18/project/archive/fresh_banana/rotated_by_15_Screen Shot 2018-06-12 at 9.38.22 PM.png\")\n",
    "img.resize((32,32))"
   ]
  },
  {
   "cell_type": "code",
   "execution_count": 9,
   "id": "e4b7db8c",
   "metadata": {},
   "outputs": [
    {
     "name": "stdout",
     "output_type": "stream",
     "text": [
      "Found 14682 files belonging to 12 classes.\n"
     ]
    }
   ],
   "source": [
    "data=tf.keras.utils.image_dataset_from_directory(\"/home/student/Desktop/PYTHON/G18/project/archive\",\n",
    "    image_size=(32,32),\n",
    "    color_mode=\"rgb\",\n",
    "    batch_size=14682)"
   ]
  },
  {
   "cell_type": "code",
   "execution_count": 10,
   "id": "b2bf055b",
   "metadata": {},
   "outputs": [
    {
     "name": "stderr",
     "output_type": "stream",
     "text": [
      "2022-12-21 21:40:12.116621: I tensorflow/core/kernels/data/shuffle_dataset_op.cc:392] Filling up shuffle buffer (this may take a while): 951 of 117456\n",
      "2022-12-21 21:40:22.043643: I tensorflow/core/kernels/data/shuffle_dataset_op.cc:392] Filling up shuffle buffer (this may take a while): 1802 of 117456\n",
      "2022-12-21 21:40:32.031633: I tensorflow/core/kernels/data/shuffle_dataset_op.cc:392] Filling up shuffle buffer (this may take a while): 2445 of 117456\n",
      "2022-12-21 21:40:42.010041: I tensorflow/core/kernels/data/shuffle_dataset_op.cc:392] Filling up shuffle buffer (this may take a while): 3103 of 117456\n",
      "2022-12-21 21:40:52.020430: I tensorflow/core/kernels/data/shuffle_dataset_op.cc:392] Filling up shuffle buffer (this may take a while): 3733 of 117456\n",
      "2022-12-21 21:41:02.058464: I tensorflow/core/kernels/data/shuffle_dataset_op.cc:392] Filling up shuffle buffer (this may take a while): 4200 of 117456\n",
      "2022-12-21 21:41:12.006805: I tensorflow/core/kernels/data/shuffle_dataset_op.cc:392] Filling up shuffle buffer (this may take a while): 4789 of 117456\n",
      "2022-12-21 21:41:22.005813: I tensorflow/core/kernels/data/shuffle_dataset_op.cc:392] Filling up shuffle buffer (this may take a while): 5346 of 117456\n",
      "2022-12-21 21:41:32.037859: I tensorflow/core/kernels/data/shuffle_dataset_op.cc:392] Filling up shuffle buffer (this may take a while): 5956 of 117456\n",
      "2022-12-21 21:41:42.019769: I tensorflow/core/kernels/data/shuffle_dataset_op.cc:392] Filling up shuffle buffer (this may take a while): 6571 of 117456\n",
      "2022-12-21 21:41:52.003849: I tensorflow/core/kernels/data/shuffle_dataset_op.cc:392] Filling up shuffle buffer (this may take a while): 7218 of 117456\n",
      "2022-12-21 21:42:02.015219: I tensorflow/core/kernels/data/shuffle_dataset_op.cc:392] Filling up shuffle buffer (this may take a while): 7891 of 117456\n",
      "2022-12-21 21:42:12.003385: I tensorflow/core/kernels/data/shuffle_dataset_op.cc:392] Filling up shuffle buffer (this may take a while): 8508 of 117456\n",
      "2022-12-21 21:42:22.023978: I tensorflow/core/kernels/data/shuffle_dataset_op.cc:392] Filling up shuffle buffer (this may take a while): 9135 of 117456\n",
      "2022-12-21 21:42:32.008193: I tensorflow/core/kernels/data/shuffle_dataset_op.cc:392] Filling up shuffle buffer (this may take a while): 9749 of 117456\n",
      "2022-12-21 21:42:42.026085: I tensorflow/core/kernels/data/shuffle_dataset_op.cc:392] Filling up shuffle buffer (this may take a while): 10386 of 117456\n",
      "2022-12-21 21:42:52.008440: I tensorflow/core/kernels/data/shuffle_dataset_op.cc:392] Filling up shuffle buffer (this may take a while): 10905 of 117456\n",
      "2022-12-21 21:43:02.017704: I tensorflow/core/kernels/data/shuffle_dataset_op.cc:392] Filling up shuffle buffer (this may take a while): 11538 of 117456\n",
      "2022-12-21 21:43:12.020721: I tensorflow/core/kernels/data/shuffle_dataset_op.cc:392] Filling up shuffle buffer (this may take a while): 12228 of 117456\n",
      "2022-12-21 21:43:22.036156: I tensorflow/core/kernels/data/shuffle_dataset_op.cc:392] Filling up shuffle buffer (this may take a while): 12916 of 117456\n",
      "2022-12-21 21:43:32.010558: I tensorflow/core/kernels/data/shuffle_dataset_op.cc:392] Filling up shuffle buffer (this may take a while): 13401 of 117456\n",
      "2022-12-21 21:43:42.025015: I tensorflow/core/kernels/data/shuffle_dataset_op.cc:392] Filling up shuffle buffer (this may take a while): 14044 of 117456\n",
      "2022-12-21 21:43:52.047433: I tensorflow/core/kernels/data/shuffle_dataset_op.cc:392] Filling up shuffle buffer (this may take a while): 14656 of 117456\n",
      "2022-12-21 21:43:52.507501: I tensorflow/core/kernels/data/shuffle_dataset_op.cc:417] Shuffle buffer filled.\n",
      "2022-12-21 21:43:52.699141: W tensorflow/tsl/framework/cpu_allocator_impl.cc:82] Allocation of 180412416 exceeds 10% of free system memory.\n"
     ]
    },
    {
     "name": "stdout",
     "output_type": "stream",
     "text": [
      "(14682, 32, 32, 3) (14682,)\n"
     ]
    }
   ],
   "source": [
    "for feature,label in data:\n",
    "    print(feature.shape,label.shape)\n",
    "    break"
   ]
  },
  {
   "cell_type": "code",
   "execution_count": 12,
   "id": "1c0ee806",
   "metadata": {},
   "outputs": [],
   "source": [
    "model=tf.keras.Sequential([\n",
    "    layers.Conv2D(16,3,input_shape=(32,32,3),activation=\"leaky_relu\"),\n",
    "    layers.MaxPool2D(),\n",
    "    layers.Conv2D(32,3,activation=\"leaky_relu\"),\n",
    "    layers.MaxPool2D(),\n",
    "    layers.Conv2D(48,3,activation=\"leaky_relu\"),\n",
    "    layers.MaxPool2D(),\n",
    "    layers.Flatten(),\n",
    "    layers.Dense(16,\"relu\"),\n",
    "    layers.Dense(12,\"softmax\")\n",
    "])"
   ]
  },
  {
   "cell_type": "code",
   "execution_count": 13,
   "id": "d266bf87",
   "metadata": {},
   "outputs": [
    {
     "name": "stdout",
     "output_type": "stream",
     "text": [
      "Model: \"sequential_2\"\n",
      "_________________________________________________________________\n",
      " Layer (type)                Output Shape              Param #   \n",
      "=================================================================\n",
      " conv2d_6 (Conv2D)           (None, 30, 30, 16)        448       \n",
      "                                                                 \n",
      " max_pooling2d_6 (MaxPooling  (None, 15, 15, 16)       0         \n",
      " 2D)                                                             \n",
      "                                                                 \n",
      " conv2d_7 (Conv2D)           (None, 13, 13, 32)        4640      \n",
      "                                                                 \n",
      " max_pooling2d_7 (MaxPooling  (None, 6, 6, 32)         0         \n",
      " 2D)                                                             \n",
      "                                                                 \n",
      " conv2d_8 (Conv2D)           (None, 4, 4, 48)          13872     \n",
      "                                                                 \n",
      " max_pooling2d_8 (MaxPooling  (None, 2, 2, 48)         0         \n",
      " 2D)                                                             \n",
      "                                                                 \n",
      " flatten_2 (Flatten)         (None, 192)               0         \n",
      "                                                                 \n",
      " dense_4 (Dense)             (None, 16)                3088      \n",
      "                                                                 \n",
      " dense_5 (Dense)             (None, 12)                204       \n",
      "                                                                 \n",
      "=================================================================\n",
      "Total params: 22,252\n",
      "Trainable params: 22,252\n",
      "Non-trainable params: 0\n",
      "_________________________________________________________________\n"
     ]
    }
   ],
   "source": [
    "model.summary()"
   ]
  },
  {
   "cell_type": "code",
   "execution_count": 14,
   "id": "a03e8b0b",
   "metadata": {},
   "outputs": [],
   "source": [
    "model.compile(loss=tf.keras.losses.categorical_crossentropy,optimizer=tf.keras.optimizers.Adam(),metrics=[\"accuracy\"])"
   ]
  },
  {
   "cell_type": "code",
   "execution_count": 15,
   "id": "06502ce2",
   "metadata": {},
   "outputs": [
    {
     "name": "stderr",
     "output_type": "stream",
     "text": [
      "2022-12-21 21:46:13.993399: I tensorflow/core/kernels/data/shuffle_dataset_op.cc:392] Filling up shuffle buffer (this may take a while): 925 of 117456\n",
      "2022-12-21 21:46:24.013129: I tensorflow/core/kernels/data/shuffle_dataset_op.cc:392] Filling up shuffle buffer (this may take a while): 1799 of 117456\n",
      "2022-12-21 21:46:33.984809: I tensorflow/core/kernels/data/shuffle_dataset_op.cc:392] Filling up shuffle buffer (this may take a while): 2633 of 117456\n",
      "2022-12-21 21:46:43.981421: I tensorflow/core/kernels/data/shuffle_dataset_op.cc:392] Filling up shuffle buffer (this may take a while): 3624 of 117456\n",
      "2022-12-21 21:46:53.981229: I tensorflow/core/kernels/data/shuffle_dataset_op.cc:392] Filling up shuffle buffer (this may take a while): 4585 of 117456\n",
      "2022-12-21 21:47:03.974720: I tensorflow/core/kernels/data/shuffle_dataset_op.cc:392] Filling up shuffle buffer (this may take a while): 5558 of 117456\n",
      "2022-12-21 21:47:13.981793: I tensorflow/core/kernels/data/shuffle_dataset_op.cc:392] Filling up shuffle buffer (this may take a while): 6538 of 117456\n",
      "2022-12-21 21:47:23.974425: I tensorflow/core/kernels/data/shuffle_dataset_op.cc:392] Filling up shuffle buffer (this may take a while): 7520 of 117456\n",
      "2022-12-21 21:47:33.975784: I tensorflow/core/kernels/data/shuffle_dataset_op.cc:392] Filling up shuffle buffer (this may take a while): 8529 of 117456\n",
      "2022-12-21 21:47:44.050442: I tensorflow/core/kernels/data/shuffle_dataset_op.cc:392] Filling up shuffle buffer (this may take a while): 9353 of 117456\n",
      "2022-12-21 21:47:53.980392: I tensorflow/core/kernels/data/shuffle_dataset_op.cc:392] Filling up shuffle buffer (this may take a while): 10263 of 117456\n",
      "2022-12-21 21:48:03.984700: I tensorflow/core/kernels/data/shuffle_dataset_op.cc:392] Filling up shuffle buffer (this may take a while): 11266 of 117456\n",
      "2022-12-21 21:48:13.978841: I tensorflow/core/kernels/data/shuffle_dataset_op.cc:392] Filling up shuffle buffer (this may take a while): 12175 of 117456\n",
      "2022-12-21 21:48:23.978920: I tensorflow/core/kernels/data/shuffle_dataset_op.cc:392] Filling up shuffle buffer (this may take a while): 12969 of 117456\n",
      "2022-12-21 21:48:33.980072: I tensorflow/core/kernels/data/shuffle_dataset_op.cc:392] Filling up shuffle buffer (this may take a while): 13821 of 117456\n",
      "2022-12-21 21:48:42.569367: I tensorflow/core/kernels/data/shuffle_dataset_op.cc:417] Shuffle buffer filled.\n",
      "2022-12-21 21:48:42.585032: W tensorflow/tsl/framework/cpu_allocator_impl.cc:82] Allocation of 180412416 exceeds 10% of free system memory.\n",
      "2022-12-21 21:48:42.807614: W tensorflow/tsl/framework/cpu_allocator_impl.cc:82] Allocation of 180412416 exceeds 10% of free system memory.\n"
     ]
    },
    {
     "name": "stdout",
     "output_type": "stream",
     "text": [
      "Epoch 1/10\n",
      "  1/294 [..............................] - ETA: 26:10 - loss: 2.4278 - accuracy: 0.1800"
     ]
    },
    {
     "name": "stderr",
     "output_type": "stream",
     "text": [
      "2022-12-21 21:48:50.289806: W tensorflow/tsl/framework/cpu_allocator_impl.cc:82] Allocation of 22291776 exceeds 10% of free system memory.\n"
     ]
    },
    {
     "name": "stdout",
     "output_type": "stream",
     "text": [
      "294/294 [==============================] - 24s 63ms/step - loss: 1.4350 - accuracy: 0.4926\n",
      "Epoch 2/10\n",
      "294/294 [==============================] - 18s 60ms/step - loss: 0.5922 - accuracy: 0.7895\n",
      "Epoch 3/10\n",
      "294/294 [==============================] - 17s 59ms/step - loss: 0.4459 - accuracy: 0.8403\n",
      "Epoch 4/10\n",
      "294/294 [==============================] - 18s 60ms/step - loss: 0.3682 - accuracy: 0.8673\n",
      "Epoch 5/10\n",
      "294/294 [==============================] - 18s 61ms/step - loss: 0.3239 - accuracy: 0.8852\n",
      "Epoch 6/10\n",
      "294/294 [==============================] - 19s 63ms/step - loss: 0.2864 - accuracy: 0.8987\n",
      "Epoch 7/10\n",
      "294/294 [==============================] - 17s 59ms/step - loss: 0.2649 - accuracy: 0.9100\n",
      "Epoch 8/10\n",
      "294/294 [==============================] - 17s 59ms/step - loss: 0.2298 - accuracy: 0.9220\n",
      "Epoch 9/10\n",
      "294/294 [==============================] - 17s 59ms/step - loss: 0.2196 - accuracy: 0.9262\n",
      "Epoch 10/10\n",
      "294/294 [==============================] - 17s 59ms/step - loss: 0.2055 - accuracy: 0.9277\n"
     ]
    }
   ],
   "source": [
    "for images,labels in data:\n",
    "    features=tf.divide(feature,255)\n",
    "    labels=tf.one_hot(label,12)\n",
    "    record=model.fit(features,labels,batch_size=50,epochs=10)\n",
    "    break"
   ]
  },
  {
   "cell_type": "code",
   "execution_count": 16,
   "id": "629135a6",
   "metadata": {},
   "outputs": [],
   "source": [
    "model=model.save(\"stale vs fresh.h5\",save_format=\"h5\")"
   ]
  },
  {
   "cell_type": "code",
   "execution_count": 17,
   "id": "71524b9d",
   "metadata": {},
   "outputs": [
    {
     "name": "stdout",
     "output_type": "stream",
     "text": [
      "Model: \"sequential_2\"\n",
      "_________________________________________________________________\n",
      " Layer (type)                Output Shape              Param #   \n",
      "=================================================================\n",
      " conv2d_6 (Conv2D)           (None, 30, 30, 16)        448       \n",
      "                                                                 \n",
      " max_pooling2d_6 (MaxPooling  (None, 15, 15, 16)       0         \n",
      " 2D)                                                             \n",
      "                                                                 \n",
      " conv2d_7 (Conv2D)           (None, 13, 13, 32)        4640      \n",
      "                                                                 \n",
      " max_pooling2d_7 (MaxPooling  (None, 6, 6, 32)         0         \n",
      " 2D)                                                             \n",
      "                                                                 \n",
      " conv2d_8 (Conv2D)           (None, 4, 4, 48)          13872     \n",
      "                                                                 \n",
      " max_pooling2d_8 (MaxPooling  (None, 2, 2, 48)         0         \n",
      " 2D)                                                             \n",
      "                                                                 \n",
      " flatten_2 (Flatten)         (None, 192)               0         \n",
      "                                                                 \n",
      " dense_4 (Dense)             (None, 16)                3088      \n",
      "                                                                 \n",
      " dense_5 (Dense)             (None, 12)                204       \n",
      "                                                                 \n",
      "=================================================================\n",
      "Total params: 22,252\n",
      "Trainable params: 22,252\n",
      "Non-trainable params: 0\n",
      "_________________________________________________________________\n"
     ]
    }
   ],
   "source": [
    "model=tf.keras.models.load_model(\"stale vs fresh.h5\")\n",
    "model.summary()"
   ]
  },
  {
   "cell_type": "code",
   "execution_count": null,
   "id": "cc5a1103",
   "metadata": {},
   "outputs": [],
   "source": []
  }
 ],
 "metadata": {
  "kernelspec": {
   "display_name": "Python 3",
   "language": "python",
   "name": "python3"
  },
  "language_info": {
   "codemirror_mode": {
    "name": "ipython",
    "version": 3
   },
   "file_extension": ".py",
   "mimetype": "text/x-python",
   "name": "python",
   "nbconvert_exporter": "python",
   "pygments_lexer": "ipython3",
   "version": "3.7.15"
  }
 },
 "nbformat": 4,
 "nbformat_minor": 5
}
