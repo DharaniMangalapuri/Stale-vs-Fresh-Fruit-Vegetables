{
 "cells": [
  {
   "cell_type": "code",
   "execution_count": 2,
   "id": "cd15f731",
   "metadata": {},
   "outputs": [],
   "source": [
    "import tensorflow as tf\n",
    "from PIL import Image\n",
    "from tensorflow.keras import layers"
   ]
  },
  {
   "cell_type": "code",
   "execution_count": 28,
   "id": "dd93d410",
   "metadata": {},
   "outputs": [
    {
     "data": {
      "image/png": "[encoded data removed]",
      "text/plain": [
       "<PIL.Image.Image image mode=RGB size=32x32>"
      ]
     },
     "execution_count": 28,
     "metadata": {},
     "output_type": "execute_result"
    }
   ],
   "source": [
    "img=Image.open(\"/home/student/Desktop/PYTHON/G18/stale_apple/rotated_by_15_Screen Shot 2018-06-07 at 2.41.32 PM.png\")\n",
    "img=img.resize((32,32))\n",
    "img"
   ]
  },
  {
   "cell_type": "code",
   "execution_count": 31,
   "id": "e4b7db8c",
   "metadata": {},
   "outputs": [
    {
     "name": "stdout",
     "output_type": "stream",
     "text": [
      "Found 2342 files belonging to 2 classes.\n"
     ]
    }
   ],
   "source": [
    "data=tf.keras.utils.image_dataset_from_directory(\"/home/student/Desktop/PYTHON/G18/project\",\n",
    "    image_size=(32,32),\n",
    "    color_mode=\"rgb\",\n",
    "    batch_size=2342)"
   ]
  },
  {
   "cell_type": "code",
   "execution_count": 32,
   "id": "b2bf055b",
   "metadata": {},
   "outputs": [
    {
     "name": "stderr",
     "output_type": "stream",
     "text": [
      "2022-12-19 19:27:06.294907: I tensorflow/core/kernels/data/shuffle_dataset_op.cc:392] Filling up shuffle buffer (this may take a while): 888 of 18736\n",
      "2022-12-19 19:27:16.214118: I tensorflow/core/kernels/data/shuffle_dataset_op.cc:392] Filling up shuffle buffer (this may take a while): 1431 of 18736\n",
      "2022-12-19 19:27:26.190752: I tensorflow/core/kernels/data/shuffle_dataset_op.cc:392] Filling up shuffle buffer (this may take a while): 1883 of 18736\n",
      "2022-12-19 19:27:34.215634: I tensorflow/core/kernels/data/shuffle_dataset_op.cc:417] Shuffle buffer filled.\n"
     ]
    },
    {
     "name": "stdout",
     "output_type": "stream",
     "text": [
      "(2342, 32, 32, 3) (2342,)\n"
     ]
    }
   ],
   "source": [
    "for feature,label in data:\n",
    "    print(feature.shape,label.shape)\n",
    "    break"
   ]
  },
  {
   "cell_type": "code",
   "execution_count": 33,
   "id": "1c0ee806",
   "metadata": {},
   "outputs": [],
   "source": [
    "model=tf.keras.Sequential([\n",
    "    layers.Conv2D(16,3,input_shape=(32,32,3),activation=\"leaky_relu\"),\n",
    "    layers.MaxPool2D(),\n",
    "    layers.Conv2D(32,3,activation=\"leaky_relu\"),\n",
    "    layers.MaxPool2D(),\n",
    "    layers.Conv2D(48,3,activation=\"leaky_relu\"),\n",
    "    layers.MaxPool2D(),\n",
    "    layers.Flatten(),\n",
    "    layers.Dense(16,\"relu\"),\n",
    "    layers.Dense(2,\"softmax\")\n",
    "])"
   ]
  },
  {
   "cell_type": "code",
   "execution_count": 34,
   "id": "d266bf87",
   "metadata": {},
   "outputs": [
    {
     "name": "stdout",
     "output_type": "stream",
     "text": [
      "Model: \"sequential_3\"\n",
      "_________________________________________________________________\n",
      " Layer (type)                Output Shape              Param #   \n",
      "=================================================================\n",
      " conv2d_9 (Conv2D)           (None, 30, 30, 16)        448       \n",
      "                                                                 \n",
      " max_pooling2d_9 (MaxPooling  (None, 15, 15, 16)       0         \n",
      " 2D)                                                             \n",
      "                                                                 \n",
      " conv2d_10 (Conv2D)          (None, 13, 13, 32)        4640      \n",
      "                                                                 \n",
      " max_pooling2d_10 (MaxPoolin  (None, 6, 6, 32)         0         \n",
      " g2D)                                                            \n",
      "                                                                 \n",
      " conv2d_11 (Conv2D)          (None, 4, 4, 48)          13872     \n",
      "                                                                 \n",
      " max_pooling2d_11 (MaxPoolin  (None, 2, 2, 48)         0         \n",
      " g2D)                                                            \n",
      "                                                                 \n",
      " flatten_3 (Flatten)         (None, 192)               0         \n",
      "                                                                 \n",
      " dense_6 (Dense)             (None, 16)                3088      \n",
      "                                                                 \n",
      " dense_7 (Dense)             (None, 2)                 34        \n",
      "                                                                 \n",
      "=================================================================\n",
      "Total params: 22,082\n",
      "Trainable params: 22,082\n",
      "Non-trainable params: 0\n",
      "_________________________________________________________________\n"
     ]
    }
   ],
   "source": [
    "model.summary()"
   ]
  },
  {
   "cell_type": "code",
   "execution_count": 35,
   "id": "a03e8b0b",
   "metadata": {},
   "outputs": [],
   "source": [
    "model.compile(loss=tf.keras.losses.categorical_crossentropy,optimizer=tf.keras.optimizers.Adam(),metrics=[\"accuracy\"])"
   ]
  },
  {
   "cell_type": "code",
   "execution_count": 36,
   "id": "06502ce2",
   "metadata": {},
   "outputs": [
    {
     "name": "stderr",
     "output_type": "stream",
     "text": [
      "2022-12-19 19:28:12.253835: I tensorflow/core/kernels/data/shuffle_dataset_op.cc:392] Filling up shuffle buffer (this may take a while): 927 of 18736\n",
      "2022-12-19 19:28:17.700597: I tensorflow/core/kernels/data/shuffle_dataset_op.cc:417] Shuffle buffer filled.\n"
     ]
    },
    {
     "name": "stdout",
     "output_type": "stream",
     "text": [
      "Epoch 1/50\n",
      "235/235 [==============================] - 8s 17ms/step - loss: 0.0117 - accuracy: 0.9974\n",
      "Epoch 2/50\n",
      "235/235 [==============================] - 4s 16ms/step - loss: 2.8504e-09 - accuracy: 1.0000\n",
      "Epoch 3/50\n",
      "235/235 [==============================] - 4s 17ms/step - loss: 2.8504e-09 - accuracy: 1.0000\n",
      "Epoch 4/50\n",
      "235/235 [==============================] - 4s 19ms/step - loss: 2.8504e-09 - accuracy: 1.0000\n",
      "Epoch 5/50\n",
      "235/235 [==============================] - 4s 19ms/step - loss: 2.8504e-09 - accuracy: 1.0000\n",
      "Epoch 6/50\n",
      "235/235 [==============================] - 4s 16ms/step - loss: 2.8504e-09 - accuracy: 1.0000\n",
      "Epoch 7/50\n",
      "235/235 [==============================] - 4s 16ms/step - loss: 2.8504e-09 - accuracy: 1.0000\n",
      "Epoch 8/50\n",
      "235/235 [==============================] - 5s 21ms/step - loss: 2.7486e-09 - accuracy: 1.0000\n",
      "Epoch 9/50\n",
      "235/235 [==============================] - 4s 18ms/step - loss: 2.6977e-09 - accuracy: 1.0000\n",
      "Epoch 10/50\n",
      "235/235 [==============================] - 4s 19ms/step - loss: 2.6977e-09 - accuracy: 1.0000\n",
      "Epoch 11/50\n",
      "235/235 [==============================] - 4s 18ms/step - loss: 2.6977e-09 - accuracy: 1.0000\n",
      "Epoch 12/50\n",
      "235/235 [==============================] - 4s 16ms/step - loss: 2.6977e-09 - accuracy: 1.0000\n",
      "Epoch 13/50\n",
      "235/235 [==============================] - 4s 15ms/step - loss: 2.6977e-09 - accuracy: 1.0000\n",
      "Epoch 14/50\n",
      "235/235 [==============================] - 3s 14ms/step - loss: 2.6977e-09 - accuracy: 1.0000\n",
      "Epoch 15/50\n",
      "235/235 [==============================] - 3s 15ms/step - loss: 2.6468e-09 - accuracy: 1.0000\n",
      "Epoch 16/50\n",
      "235/235 [==============================] - 3s 14ms/step - loss: 2.5959e-09 - accuracy: 1.0000\n",
      "Epoch 17/50\n",
      "235/235 [==============================] - 3s 14ms/step - loss: 2.4432e-09 - accuracy: 1.0000\n",
      "Epoch 18/50\n",
      "235/235 [==============================] - 4s 16ms/step - loss: 2.2905e-09 - accuracy: 1.0000\n",
      "Epoch 19/50\n",
      "235/235 [==============================] - 5s 20ms/step - loss: 2.1378e-09 - accuracy: 1.0000\n",
      "Epoch 20/50\n",
      "235/235 [==============================] - 4s 16ms/step - loss: 1.9851e-09 - accuracy: 1.0000\n",
      "Epoch 21/50\n",
      "235/235 [==============================] - 3s 15ms/step - loss: 1.8324e-09 - accuracy: 1.0000\n",
      "Epoch 22/50\n",
      "235/235 [==============================] - 4s 17ms/step - loss: 1.8324e-09 - accuracy: 1.0000\n",
      "Epoch 23/50\n",
      "235/235 [==============================] - 4s 16ms/step - loss: 1.8324e-09 - accuracy: 1.0000\n",
      "Epoch 24/50\n",
      "235/235 [==============================] - 3s 14ms/step - loss: 1.7306e-09 - accuracy: 1.0000\n",
      "Epoch 25/50\n",
      "235/235 [==============================] - 4s 15ms/step - loss: 1.5270e-09 - accuracy: 1.0000\n",
      "Epoch 26/50\n",
      "235/235 [==============================] - 4s 16ms/step - loss: 1.4252e-09 - accuracy: 1.0000\n",
      "Epoch 27/50\n",
      "235/235 [==============================] - 4s 17ms/step - loss: 1.3234e-09 - accuracy: 1.0000\n",
      "Epoch 28/50\n",
      "235/235 [==============================] - 3s 14ms/step - loss: 1.0180e-09 - accuracy: 1.0000\n",
      "Epoch 29/50\n",
      "235/235 [==============================] - 4s 16ms/step - loss: 9.6711e-10 - accuracy: 1.0000\n",
      "Epoch 30/50\n",
      "235/235 [==============================] - 4s 16ms/step - loss: 8.1441e-10 - accuracy: 1.0000\n",
      "Epoch 31/50\n",
      "235/235 [==============================] - 4s 15ms/step - loss: 7.1261e-10 - accuracy: 1.0000\n",
      "Epoch 32/50\n",
      "235/235 [==============================] - 5s 21ms/step - loss: 6.1081e-10 - accuracy: 1.0000\n",
      "Epoch 33/50\n",
      "235/235 [==============================] - 4s 19ms/step - loss: 5.5991e-10 - accuracy: 1.0000\n",
      "Epoch 34/50\n",
      "235/235 [==============================] - 4s 18ms/step - loss: 5.0901e-10 - accuracy: 1.0000\n",
      "Epoch 35/50\n",
      "235/235 [==============================] - 5s 21ms/step - loss: 4.5811e-10 - accuracy: 1.0000\n",
      "Epoch 36/50\n",
      "235/235 [==============================] - 4s 18ms/step - loss: 3.5630e-10 - accuracy: 1.0000\n",
      "Epoch 37/50\n",
      "235/235 [==============================] - 4s 19ms/step - loss: 3.0540e-10 - accuracy: 1.0000\n",
      "Epoch 38/50\n",
      "235/235 [==============================] - 5s 22ms/step - loss: 2.5450e-10 - accuracy: 1.0000\n",
      "Epoch 39/50\n",
      "235/235 [==============================] - 4s 15ms/step - loss: 1.0180e-10 - accuracy: 1.0000\n",
      "Epoch 40/50\n",
      "235/235 [==============================] - 4s 18ms/step - loss: 1.0180e-10 - accuracy: 1.0000\n",
      "Epoch 41/50\n",
      "235/235 [==============================] - 5s 22ms/step - loss: 1.0180e-10 - accuracy: 1.0000\n",
      "Epoch 42/50\n",
      "235/235 [==============================] - 5s 22ms/step - loss: 1.0180e-10 - accuracy: 1.0000\n",
      "Epoch 43/50\n",
      "235/235 [==============================] - 4s 16ms/step - loss: 5.0901e-11 - accuracy: 1.0000\n",
      "Epoch 44/50\n",
      "235/235 [==============================] - 4s 19ms/step - loss: 5.0901e-11 - accuracy: 1.0000\n",
      "Epoch 45/50\n",
      "235/235 [==============================] - 5s 19ms/step - loss: 5.0901e-11 - accuracy: 1.0000\n",
      "Epoch 46/50\n",
      "235/235 [==============================] - 5s 21ms/step - loss: 0.0000e+00 - accuracy: 1.0000\n",
      "Epoch 47/50\n",
      "235/235 [==============================] - 4s 18ms/step - loss: 0.0000e+00 - accuracy: 1.0000\n",
      "Epoch 48/50\n",
      "235/235 [==============================] - 4s 18ms/step - loss: 0.0000e+00 - accuracy: 1.0000\n",
      "Epoch 49/50\n",
      "235/235 [==============================] - 4s 17ms/step - loss: 0.0000e+00 - accuracy: 1.0000\n",
      "Epoch 50/50\n",
      "235/235 [==============================] - 4s 16ms/step - loss: 0.0000e+00 - accuracy: 1.0000\n"
     ]
    }
   ],
   "source": [
    "for images,labels in data:\n",
    "    features=tf.divide(feature,255)\n",
    "    labels=tf.one_hot(label,2)\n",
    "    record=model.fit(features,labels,batch_size=10,epochs=50)\n",
    "    break"
   ]
  },
  {
   "cell_type": "code",
   "execution_count": 38,
   "id": "629135a6",
   "metadata": {},
   "outputs": [],
   "source": [
    "model=model.save(\"stale_apple.h5\",save_format=\"h5\")"
   ]
  },
  {
   "cell_type": "code",
   "execution_count": 41,
   "id": "71524b9d",
   "metadata": {},
   "outputs": [
    {
     "name": "stdout",
     "output_type": "stream",
     "text": [
      "Model: \"sequential_3\"\n",
      "_________________________________________________________________\n",
      " Layer (type)                Output Shape              Param #   \n",
      "=================================================================\n",
      " conv2d_9 (Conv2D)           (None, 30, 30, 16)        448       \n",
      "                                                                 \n",
      " max_pooling2d_9 (MaxPooling  (None, 15, 15, 16)       0         \n",
      " 2D)                                                             \n",
      "                                                                 \n",
      " conv2d_10 (Conv2D)          (None, 13, 13, 32)        4640      \n",
      "                                                                 \n",
      " max_pooling2d_10 (MaxPoolin  (None, 6, 6, 32)         0         \n",
      " g2D)                                                            \n",
      "                                                                 \n",
      " conv2d_11 (Conv2D)          (None, 4, 4, 48)          13872     \n",
      "                                                                 \n",
      " max_pooling2d_11 (MaxPoolin  (None, 2, 2, 48)         0         \n",
      " g2D)                                                            \n",
      "                                                                 \n",
      " flatten_3 (Flatten)         (None, 192)               0         \n",
      "                                                                 \n",
      " dense_6 (Dense)             (None, 16)                3088      \n",
      "                                                                 \n",
      " dense_7 (Dense)             (None, 2)                 34        \n",
      "                                                                 \n",
      "=================================================================\n",
      "Total params: 22,082\n",
      "Trainable params: 22,082\n",
      "Non-trainable params: 0\n",
      "_________________________________________________________________\n"
     ]
    }
   ],
   "source": [
    "model=tf.keras.models.load_model(\"stale_apple.h5\")\n",
    "model.summary()"
   ]
  },
  {
   "cell_type": "code",
   "execution_count": null,
   "id": "cc5a1103",
   "metadata": {},
   "outputs": [],
   "source": []
  }
 ],
 "metadata": {
  "kernelspec": {
   "display_name": "Python 3",
   "language": "python",
   "name": "python3"
  },
  "language_info": {
   "codemirror_mode": {
    "name": "ipython",
    "version": 3
   },
   "file_extension": ".py",
   "mimetype": "text/x-python",
   "name": "python",
   "nbconvert_exporter": "python",
   "pygments_lexer": "ipython3",
   "version": "3.7.15"
  }
 },
 "nbformat": 4,
 "nbformat_minor": 5
}
