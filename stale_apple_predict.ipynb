{
 "cells": [
  {
   "cell_type": "code",
   "execution_count": 2,
   "id": "aa6f6e82",
   "metadata": {},
   "outputs": [],
   "source": [
    "import tensorflow as tf\n",
    "from PIL import Image"
   ]
  },
  {
   "cell_type": "code",
   "execution_count": 9,
   "id": "aeda1cb9",
   "metadata": {},
   "outputs": [],
   "source": [
    "model=tf.keras.models.load_model(\"stale_apple.h5\")"
   ]
  },
  {
   "cell_type": "code",
   "execution_count": 10,
   "id": "3ab043d1",
   "metadata": {},
   "outputs": [
    {
     "name": "stdout",
     "output_type": "stream",
     "text": [
      "Model: \"sequential_3\"\n",
      "_________________________________________________________________\n",
      " Layer (type)                Output Shape              Param #   \n",
      "=================================================================\n",
      " conv2d_9 (Conv2D)           (None, 30, 30, 16)        448       \n",
      "                                                                 \n",
      " max_pooling2d_9 (MaxPooling  (None, 15, 15, 16)       0         \n",
      " 2D)                                                             \n",
      "                                                                 \n",
      " conv2d_10 (Conv2D)          (None, 13, 13, 32)        4640      \n",
      "                                                                 \n",
      " max_pooling2d_10 (MaxPoolin  (None, 6, 6, 32)         0         \n",
      " g2D)                                                            \n",
      "                                                                 \n",
      " conv2d_11 (Conv2D)          (None, 4, 4, 48)          13872     \n",
      "                                                                 \n",
      " max_pooling2d_11 (MaxPoolin  (None, 2, 2, 48)         0         \n",
      " g2D)                                                            \n",
      "                                                                 \n",
      " flatten_3 (Flatten)         (None, 192)               0         \n",
      "                                                                 \n",
      " dense_6 (Dense)             (None, 16)                3088      \n",
      "                                                                 \n",
      " dense_7 (Dense)             (None, 2)                 34        \n",
      "                                                                 \n",
      "=================================================================\n",
      "Total params: 22,082\n",
      "Trainable params: 22,082\n",
      "Non-trainable params: 0\n",
      "_________________________________________________________________\n"
     ]
    }
   ],
   "source": [
    "classes=[\"fresh\",\"not-fresh\"]\n",
    "model1.summary()"
   ]
  },
  {
   "cell_type": "code",
   "execution_count": 11,
   "id": "968fb077",
   "metadata": {},
   "outputs": [],
   "source": [
    "img=Image.open(\"/home/student/Desktop/PYTHON/G18/project/stale_apple/rotated_by_15_Screen Shot 2018-06-07 at 2.23.24 PM.png\")\n",
    "img=img.resize((32,32))"
   ]
  },
  {
   "cell_type": "code",
   "execution_count": 12,
   "id": "a30ad412",
   "metadata": {},
   "outputs": [
    {
     "name": "stdout",
     "output_type": "stream",
     "text": [
      "tf.Tensor([  0. 100.], shape=(2,), dtype=float32)\n"
     ]
    }
   ],
   "source": [
    "test=tf.reshape(tf.constant(img)/255,(-1,32,32,3))\n",
    "preds=model.predict(test,verbose=False)[0]*100\n",
    "preds=tf.math.round(preds)\n",
    "print(preds)"
   ]
  },
  {
   "cell_type": "code",
   "execution_count": 13,
   "id": "275ba047",
   "metadata": {},
   "outputs": [
    {
     "name": "stdout",
     "output_type": "stream",
     "text": [
      "1\n"
     ]
    }
   ],
   "source": [
    "confidence=tf.reduce_max(preds)\n",
    "index=int(tf.where(preds==confidence)[0][0])\n",
    "print(index)"
   ]
  },
  {
   "cell_type": "code",
   "execution_count": 14,
   "id": "366d0be9",
   "metadata": {},
   "outputs": [],
   "source": [
    "pred=classes[index]"
   ]
  },
  {
   "cell_type": "code",
   "execution_count": 15,
   "id": "34ea6cc3",
   "metadata": {},
   "outputs": [
    {
     "name": "stdout",
     "output_type": "stream",
     "text": [
      "Not-Fresh 100 %\n"
     ]
    }
   ],
   "source": [
    "print(pred.title(),int(confidence),'%')"
   ]
  },
  {
   "cell_type": "code",
   "execution_count": null,
   "id": "b402a370",
   "metadata": {},
   "outputs": [],
   "source": []
  }
 ],
 "metadata": {
  "kernelspec": {
   "display_name": "Python 3",
   "language": "python",
   "name": "python3"
  },
  "language_info": {
   "codemirror_mode": {
    "name": "ipython",
    "version": 3
   },
   "file_extension": ".py",
   "mimetype": "text/x-python",
   "name": "python",
   "nbconvert_exporter": "python",
   "pygments_lexer": "ipython3",
   "version": "3.7.15"
  }
 },
 "nbformat": 4,
 "nbformat_minor": 5
}
